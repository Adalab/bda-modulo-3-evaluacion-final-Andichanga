{
 "cells": [
  {
   "cell_type": "markdown",
   "metadata": {},
   "source": [
    "## Módulo 3. Ejercicio técnico"
   ]
  },
  {
   "cell_type": "code",
   "execution_count": 4,
   "metadata": {},
   "outputs": [],
   "source": [
    "# Importo todo lo que vaya a necesitar utilizar.\n",
    "# Para el tratamiento de datos:\n",
    "import pandas as pd\n",
    "import numpy as np\n",
    "pd.set_option('display.max_columns', None) #Para ver todas las columnas\n",
    "\n",
    "# Imputar nulos con métodos avanzados estadísticos:\n",
    "from sklearn.impute import KNNImputer\n",
    "\n",
    "# Visualización:\n",
    "import seaborn as sns\n",
    "import matplotlib.pyplot as plt"
   ]
  },
  {
   "cell_type": "markdown",
   "metadata": {},
   "source": [
    "## Fase 1."
   ]
  },
  {
   "cell_type": "markdown",
   "metadata": {},
   "source": [
    "### 1.1 Exploración inicial.\n",
    "Revisaré ambos csv's para saber qué tipo de datos tengo e ir familiarizándome con ellos."
   ]
  },
  {
   "cell_type": "code",
   "execution_count": null,
   "metadata": {},
   "outputs": [],
   "source": [
    "# Primero cargo los dos csv's a utilizar.\n",
    "df_fa = pd.read_csv(\"Customer Flight Activity.csv\")\n",
    "df_lh = pd.read_csv(\"Customer Loyalty History.csv\")"
   ]
  },
  {
   "cell_type": "code",
   "execution_count": null,
   "metadata": {},
   "outputs": [],
   "source": [
    "# Empiezo por Flight Activity.\n",
    "# Las cinco primeras filas:\n",
    "df_fa.head()"
   ]
  },
  {
   "cell_type": "code",
   "execution_count": null,
   "metadata": {},
   "outputs": [],
   "source": [
    "# Las cinco últimas filas:\n",
    "df_fa.tail()"
   ]
  },
  {
   "cell_type": "code",
   "execution_count": null,
   "metadata": {},
   "outputs": [],
   "source": [
    "# Cinco filas al azar:\n",
    "df_fa.sample(5)"
   ]
  },
  {
   "cell_type": "code",
   "execution_count": null,
   "metadata": {},
   "outputs": [],
   "source": [
    "# Los nombres de las columnas:\n",
    "df_fa.columns"
   ]
  },
  {
   "cell_type": "code",
   "execution_count": null,
   "metadata": {},
   "outputs": [],
   "source": [
    "# Las medidas: (filas,columnas)\n",
    "df_fa.shape"
   ]
  },
  {
   "cell_type": "code",
   "execution_count": null,
   "metadata": {},
   "outputs": [],
   "source": [
    "#Información general:\n",
    "df_fa.info()"
   ]
  },
  {
   "cell_type": "code",
   "execution_count": null,
   "metadata": {},
   "outputs": [],
   "source": [
    "# Reviso si hay duplicados:\n",
    "df_fa.duplicated().sum()"
   ]
  },
  {
   "cell_type": "code",
   "execution_count": null,
   "metadata": {},
   "outputs": [],
   "source": [
    "# Repito el proceso con Loyalty History:\n",
    "df_lh.head()"
   ]
  },
  {
   "cell_type": "code",
   "execution_count": null,
   "metadata": {},
   "outputs": [],
   "source": [
    "df_lh.tail()"
   ]
  },
  {
   "cell_type": "code",
   "execution_count": null,
   "metadata": {},
   "outputs": [],
   "source": [
    "df_lh.sample(5)"
   ]
  },
  {
   "cell_type": "code",
   "execution_count": null,
   "metadata": {},
   "outputs": [],
   "source": [
    "df_lh.columns"
   ]
  },
  {
   "cell_type": "code",
   "execution_count": null,
   "metadata": {},
   "outputs": [],
   "source": [
    "df_lh.shape"
   ]
  },
  {
   "cell_type": "code",
   "execution_count": null,
   "metadata": {},
   "outputs": [],
   "source": [
    "df_lh.info()"
   ]
  },
  {
   "cell_type": "code",
   "execution_count": null,
   "metadata": {},
   "outputs": [],
   "source": [
    "# Reviso si hay duplicados:\n",
    "df_lh.duplicated().sum()"
   ]
  },
  {
   "cell_type": "code",
   "execution_count": null,
   "metadata": {},
   "outputs": [],
   "source": [
    "# Parece que podría unir los dos df's por la columna 'Loyalty Number'.\n",
    "# Compruebo primero si los valores son únicos:\n",
    "df_lh['Loyalty Number'].value_counts()"
   ]
  },
  {
   "cell_type": "code",
   "execution_count": null,
   "metadata": {},
   "outputs": [],
   "source": [
    "df_fa['Loyalty Number'].value_counts()"
   ]
  },
  {
   "cell_type": "code",
   "execution_count": 6,
   "metadata": {},
   "outputs": [],
   "source": [
    "# En df_lh sí que son valores únicos pero en df_fa hay valores que se repiten.\n",
    "# Uniré las dos tablas y después revisaré los valores repetidos para saber si son duplicados y decidir qué hacer con ellos.\n",
    "df_m = df_lh.merge(df_fa, on=\"Loyalty Number\", how=\"outer\")"
   ]
  },
  {
   "cell_type": "code",
   "execution_count": null,
   "metadata": {},
   "outputs": [],
   "source": [
    "# Inspecciono el df igual que hice con los csv para ver qué datos tengo:\n",
    "df_m.head()"
   ]
  },
  {
   "cell_type": "code",
   "execution_count": null,
   "metadata": {},
   "outputs": [],
   "source": [
    "df_m.tail()"
   ]
  },
  {
   "cell_type": "code",
   "execution_count": null,
   "metadata": {},
   "outputs": [],
   "source": [
    "df_m.sample(5)"
   ]
  },
  {
   "cell_type": "code",
   "execution_count": null,
   "metadata": {},
   "outputs": [],
   "source": [
    "df_m.columns"
   ]
  },
  {
   "cell_type": "code",
   "execution_count": null,
   "metadata": {},
   "outputs": [],
   "source": [
    "df_m.shape"
   ]
  },
  {
   "cell_type": "code",
   "execution_count": null,
   "metadata": {},
   "outputs": [],
   "source": [
    "# Veo su información general:\n",
    "df_m.info()"
   ]
  },
  {
   "cell_type": "code",
   "execution_count": null,
   "metadata": {},
   "outputs": [],
   "source": [
    "# Reviso si tengo los mismos duplicados o si hay más:\n",
    "df_m.duplicated().sum()"
   ]
  },
  {
   "cell_type": "code",
   "execution_count": null,
   "metadata": {},
   "outputs": [],
   "source": [
    "# Vuelvo a revisar de manera general los datos numéricos:\n",
    "df_m.describe().T"
   ]
  },
  {
   "cell_type": "code",
   "execution_count": null,
   "metadata": {},
   "outputs": [],
   "source": [
    "# Aquí los datos tipo 'object' = str.\n",
    "df_m.describe(include = 'object').T"
   ]
  },
  {
   "cell_type": "code",
   "execution_count": 7,
   "metadata": {},
   "outputs": [
    {
     "name": "stdout",
     "output_type": "stream",
     "text": [
      "Country\n",
      "['Canada']\n",
      "-------------------------------------------------------------------------------\n",
      "Province\n",
      "['Alberta' 'Ontario' 'British Columbia' 'Saskatchewan' 'Quebec' 'Manitoba'\n",
      " 'Newfoundland' 'New Brunswick' 'Nova Scotia' 'Prince Edward Island'\n",
      " 'Yukon']\n",
      "-------------------------------------------------------------------------------\n",
      "City\n",
      "['Edmonton' 'Toronto' 'Dawson Creek' 'Vancouver' 'Regina' 'Montreal'\n",
      " 'Sudbury' 'Winnipeg' 'Quebec City' 'Peace River' \"St. John's\" 'Tremblant'\n",
      " 'Ottawa' 'Trenton' 'Thunder Bay' 'West Vancouver' 'Fredericton' 'London'\n",
      " 'Halifax' 'Moncton' 'Banff' 'Kingston' 'Whistler' 'Charlottetown' 'Hull'\n",
      " 'Victoria' 'Calgary' 'Kelowna' 'Whitehorse']\n",
      "-------------------------------------------------------------------------------\n",
      "Postal Code\n",
      "['T9G 1W3' 'M1R 4K3' 'U5I 4F1' 'V5R 1W3' 'P1L 8X8' 'P1J 8T7' 'S6J 3G0'\n",
      " 'H2T 9K8' 'V6E 3D9' 'M5V 1G5' 'H2Y 4R4' 'R2C 0M5' 'V6E 3Z3' 'G1B 3L5'\n",
      " 'T9O 2W2' 'A1C 6H9' 'H5Y 2S9' 'K1F 2R2' 'K8V 4B2' 'R3R 3T4' 'P1W 1K4'\n",
      " 'K8T 5M5' 'V6V 8Z3' 'M2M 7K8' 'E3B 2H2' 'H2Y 2W2' 'M5B 3E4' 'P5S 6R4'\n",
      " 'P2T 6G3' 'B3J 9S2' 'B3C 2M8' 'H4G 3T4' 'R6Y 4T5' 'H2T 2J6' 'M2Z 4K1'\n",
      " 'S1J 3C5' 'E1A 2A7' 'V1E 4R6' 'T4V 1D4' 'M9K 2P4' 'M8Y 4K8' 'T3G 6Y6'\n",
      " 'M2M 6J7' 'V6T 1Y8' 'C1A 6E8' 'J8Y 3Z5' 'V10 6T5' 'H3T 8L4' 'T3E 2V9'\n",
      " 'V09 2E9' 'Y2K 6R0' 'K1G 4Z0' 'M2P 4F6' 'M3R 4K8' 'H3J 5I6']\n",
      "-------------------------------------------------------------------------------\n",
      "Gender\n",
      "['Female' 'Male']\n",
      "-------------------------------------------------------------------------------\n",
      "Education\n",
      "['Bachelor' 'College' 'Master' 'High School or Below' 'Doctor']\n",
      "-------------------------------------------------------------------------------\n",
      "Marital Status\n",
      "['Married' 'Single' 'Divorced']\n",
      "-------------------------------------------------------------------------------\n",
      "Loyalty Card\n",
      "['Aurora' 'Nova' 'Star']\n",
      "-------------------------------------------------------------------------------\n",
      "Enrollment Type\n",
      "['Standard' '2018 Promotion']\n",
      "-------------------------------------------------------------------------------\n"
     ]
    }
   ],
   "source": [
    "# Hago un pequeño bucle para que me muestre todos los datos y revisar si hay algo mal escrito:\n",
    "for col in df_m.select_dtypes(include='object'):\n",
    "    print(col)\n",
    "    print(df_m[col].unique())\n",
    "    print(f'-------------------------------------------------------------------------------')"
   ]
  },
  {
   "cell_type": "markdown",
   "metadata": {},
   "source": [
    "### Primera impresión después de revisar los datos:\n",
    "- En Country solo tenemos un valor: 'Canada'.\n",
    "- Cambiaré la columna 'Gender' por 'Sex'.\n",
    "- Debo cambiar 'Month', 'Cancellation Month' y 'Enrrollment Month' para mostrar el nombre del mes.\n",
    "- Hay nulos en las columnas: 'Salary', 'Cancellation Year' y 'Cancellation Month'.\n",
    "- Hay datos negativos en 'Salary'.\n",
    "- Podría cambiar los espacios entre los nombres de las columnas por un '_' pero creo que en los gráficos quedará mejor como está."
   ]
  },
  {
   "cell_type": "markdown",
   "metadata": {},
   "source": [
    "## 1.2 Limpieza de datos."
   ]
  },
  {
   "cell_type": "code",
   "execution_count": null,
   "metadata": {},
   "outputs": [],
   "source": [
    "# Elimino los duplicados:\n",
    "df_m.drop_duplicates(inplace=True)"
   ]
  },
  {
   "cell_type": "code",
   "execution_count": null,
   "metadata": {},
   "outputs": [],
   "source": [
    "# Me aseguro de haberlos eliminado:\n",
    "df_m.duplicated().sum()"
   ]
  },
  {
   "cell_type": "code",
   "execution_count": null,
   "metadata": {},
   "outputs": [],
   "source": [
    "# Eliminaré la columna 'Country' porque siempre se trata del mismo dato, tengo en cuenta que el análisis será solamente sobre usuarios de Canadá.\n",
    "# Si en el futuro necesitase esta columna podría añadirla.\n",
    "df_m.drop('Country', axis=1, inplace=True)"
   ]
  },
  {
   "cell_type": "code",
   "execution_count": null,
   "metadata": {},
   "outputs": [],
   "source": [
    "# Cambio el nombre de la columna 'Gender' a 'Sex':\n",
    "df_m.rename(columns = {'Gender': 'Sex'}, inplace = True)"
   ]
  },
  {
   "cell_type": "code",
   "execution_count": null,
   "metadata": {},
   "outputs": [],
   "source": [
    "# Reviso que se hayan aplicado ambos cambios:\n",
    "df_m.columns"
   ]
  },
  {
   "cell_type": "code",
   "execution_count": null,
   "metadata": {},
   "outputs": [],
   "source": [
    "# Inspecciono de nuevo los nulos:\n",
    "df_m.isnull().sum()"
   ]
  },
  {
   "cell_type": "code",
   "execution_count": 8,
   "metadata": {},
   "outputs": [
    {
     "name": "stdout",
     "output_type": "stream",
     "text": [
      "En la columna Salary tengo 102672 nulos, un 25.31%.\n",
      "-----------------------------------------------------\n",
      "En la columna Cancellation Year tengo 355560 nulos, un 87.66%.\n",
      "--------------------------------------------------------------\n",
      "En la columna Cancellation Month tengo 355560 nulos, un 87.66%.\n",
      "--------------------------------------------------------------\n"
     ]
    }
   ],
   "source": [
    "# Ya sé que las únicas columnas con nulos son 'Salary', 'Cancellation Year' y 'Cancellation Month'.\n",
    "# Dejo esto más claro para verlo en números y porcentaje redondeando a dos decimales:\n",
    "n1 = df_m['Salary'].isnull().sum()\n",
    "n11 = (df_m['Salary'].isnull().sum()/df_m.shape[0]*100).round(2) \n",
    "n2 = df_m['Cancellation Year'].isnull().sum()\n",
    "n22 = (df_m['Cancellation Year'].isnull().sum()/df_m.shape[0]*100).round(2) \n",
    "n3 = df_m['Cancellation Month'].isnull().sum()\n",
    "n33 = (df_m['Cancellation Month'].isnull().sum()/df_m.shape[0]*100).round(2) \n",
    "\n",
    "print(f'En la columna Salary tengo {n1} nulos, un {n11}%.')\n",
    "print(f'-----------------------------------------------------')\n",
    "print(f'En la columna Cancellation Year tengo {n2} nulos, un {n22}%.')\n",
    "print(f'--------------------------------------------------------------')\n",
    "print(f'En la columna Cancellation Month tengo {n3} nulos, un {n33}%.')\n",
    "print(f'--------------------------------------------------------------')"
   ]
  },
  {
   "cell_type": "markdown",
   "metadata": {},
   "source": [
    "En cuanto a las columnas 'Cancellation Year' y 'Cancellation Month':\n",
    "- Debo cambiar su tipo de dato a int.\n",
    "- Es un porcentaje de nulos muy alto.\n",
    "- Tengo la misma cantidad de nulos en ambas columnas: supondré que no tenemos ese dato porque esos clientes no han cancelado su tarjeta y está en uso. Cambiaré los nulos por la palabra 'Ongoing' para especificar que esas tarjetas aún están en activo."
   ]
  },
  {
   "cell_type": "code",
   "execution_count": null,
   "metadata": {},
   "outputs": [],
   "source": [
    "# Quiero cambiar el dato de 'Cancellation Year' y 'Cancellation Month' a int pero no puedo porque hay nulos.\n",
    "# Primero rellenaré los nulos con 0 para poder cambiar el tipo de dato.\n",
    "df_m['Cancellation Year'] = df_m['Cancellation Year'].fillna(0)\n",
    "df_m['Cancellation Month'] = df_m['Cancellation Month'].fillna(0)\n",
    "\n",
    "# Ahora puedo cambiar el tipo de dato\n",
    "df_m['Cancellation Year'] = df_m['Cancellation Year'].astype(int)\n",
    "df_m['Cancellation Month'] = df_m['Cancellation Month'].astype(int)"
   ]
  },
  {
   "cell_type": "code",
   "execution_count": null,
   "metadata": {},
   "outputs": [],
   "source": [
    "# Ya no puedo utilizar fillna para tratar los nulos.\n",
    "# Haré una función que cambie los 0 por la palabra 'Ongoing'.\n",
    "# Pero primero debo cambiar el espacio en el nombre de las columnas por un \"_\" para poder ejecutar la función:\n",
    "df_m.rename(columns = {'Cancellation Year': 'Cancellation_Year'}, inplace = True)\n",
    "df_m.rename(columns = {'Cancellation Month': 'Cancellation_Month'}, inplace = True)"
   ]
  },
  {
   "cell_type": "code",
   "execution_count": null,
   "metadata": {},
   "outputs": [],
   "source": [
    "# Hago la función para 'Cancellation Year':\n",
    "def cero(Cancellation_Year):\n",
    "    if Cancellation_Year == 0:\n",
    "        return ('Ongoing')\n",
    "    else:\n",
    "        return Cancellation_Year"
   ]
  },
  {
   "cell_type": "code",
   "execution_count": null,
   "metadata": {},
   "outputs": [],
   "source": [
    "# La adapto para 'Cancellation Month':\n",
    "def cero2(Cancellation_Month):\n",
    "    if Cancellation_Month == 0:\n",
    "        return ('Ongoing')\n",
    "    else:\n",
    "        return Cancellation_Month"
   ]
  },
  {
   "cell_type": "code",
   "execution_count": null,
   "metadata": {},
   "outputs": [],
   "source": [
    "# Aplico las funciones a las dos columnas:\n",
    "df_m['Cancellation_Year'] = df_m['Cancellation_Year'].apply(cero)\n",
    "df_m['Cancellation_Month'] = df_m['Cancellation_Month'].apply(cero2)"
   ]
  },
  {
   "cell_type": "code",
   "execution_count": null,
   "metadata": {},
   "outputs": [],
   "source": [
    "# Renombro las columnas:\n",
    "df_m.rename(columns = {'Cancellation_Year': 'Cancellation Year'}, inplace = True)\n",
    "df_m.rename(columns = {'Cancellation_Month': 'Cancellation Month'}, inplace = True)"
   ]
  },
  {
   "cell_type": "code",
   "execution_count": null,
   "metadata": {},
   "outputs": [],
   "source": [
    "# Reviso que se hayan aplicado correctamente los cambios:\n",
    "n4 = df_m['Cancellation Year'].isnull().sum()\n",
    "n5 = df_m['Cancellation Month'].isnull().sum()\n",
    "\n",
    "print(f'En la columna Cancellation Year tengo {n4} nulos.')\n",
    "print(f'-----------------------------------------------')\n",
    "print(f'En la columna Cancellation Month tengo {n5} nulos.')"
   ]
  },
  {
   "cell_type": "code",
   "execution_count": null,
   "metadata": {},
   "outputs": [],
   "source": [
    "# Voy a modificar el tipo de dato de Month a object para después cambiarlo por el nombre del mes y que se vea más claro.\n",
    "# Aunque al aplicar la función ya cambiaría el tipo de dato directamente.\n",
    "df_m['Month'] = df_m['Month'].astype(object)"
   ]
  },
  {
   "cell_type": "code",
   "execution_count": null,
   "metadata": {},
   "outputs": [],
   "source": [
    "# Creo una funcion que cambie el número de mes por el nombre:\n",
    "def mes(Month):\n",
    "    if Month == 1:\n",
    "        return ('January')\n",
    "    elif Month == 2:\n",
    "        return ('February')\n",
    "    elif Month == 3:\n",
    "        return ('March')\n",
    "    elif Month == 4:\n",
    "        return ('April')\n",
    "    elif Month == 5:\n",
    "        return ('May')\n",
    "    elif Month == 6:\n",
    "        return ('June')\n",
    "    elif Month == 7:\n",
    "        return ('July')\n",
    "    elif Month == 8:\n",
    "        return ('August')\n",
    "    elif Month == 9:\n",
    "        return ('September')\n",
    "    elif Month == 10:\n",
    "        return ('October')\n",
    "    elif Month == 11:\n",
    "        return ('November')\n",
    "    elif Month == 12:\n",
    "        return ('December')\n",
    "    else:\n",
    "        return Month"
   ]
  },
  {
   "cell_type": "code",
   "execution_count": null,
   "metadata": {},
   "outputs": [],
   "source": [
    "# Le paso la función a la columna 'Month':\n",
    "df_m['Month'] = df_m['Month'].apply(mes)"
   ]
  },
  {
   "cell_type": "code",
   "execution_count": null,
   "metadata": {},
   "outputs": [],
   "source": [
    "# Hago lo mismo para las columnas 'Enrollment Month' y 'Cancellation Month'.\n",
    "# Pero primero debo cambiar el espacio en el nombre de las columnas por un \"_\" para poder ejecutar la función:\n",
    "\n",
    "df_m.rename(columns = {'Enrollment Month': 'Enrollment_Month'}, inplace = True)\n",
    "\n",
    "df_m.rename(columns = {'Cancellation Month': 'Cancellation_Month'}, inplace = True)"
   ]
  },
  {
   "cell_type": "code",
   "execution_count": null,
   "metadata": {},
   "outputs": [],
   "source": [
    "# Modifico la función para 'Enrollment Month':\n",
    "def mes2(Enrollment_Month):\n",
    "    if Enrollment_Month == 1:\n",
    "        return ('January')\n",
    "    elif Enrollment_Month == 2:\n",
    "        return ('February')\n",
    "    elif Enrollment_Month == 3:\n",
    "        return ('March')\n",
    "    elif Enrollment_Month == 4:\n",
    "        return ('April')\n",
    "    elif Enrollment_Month == 5:\n",
    "        return ('May')\n",
    "    elif Enrollment_Month == 6:\n",
    "        return ('June')\n",
    "    elif Enrollment_Month == 7:\n",
    "        return ('July')\n",
    "    elif Enrollment_Month == 8:\n",
    "        return ('August')\n",
    "    elif Enrollment_Month == 9:\n",
    "        return ('September')\n",
    "    elif Enrollment_Month == 10:\n",
    "        return ('October')\n",
    "    elif Enrollment_Month == 11:\n",
    "        return ('November')\n",
    "    elif Enrollment_Month == 12:\n",
    "        return ('December')\n",
    "    else:\n",
    "        return Enrollment_Month"
   ]
  },
  {
   "cell_type": "code",
   "execution_count": null,
   "metadata": {},
   "outputs": [],
   "source": [
    "# Hago lo mismo para 'Cancellation Month':\n",
    "def mes3(Cancellation_Month):\n",
    "    if Cancellation_Month == 1:\n",
    "        return ('January')\n",
    "    elif Cancellation_Month == 2:\n",
    "        return ('February')\n",
    "    elif Cancellation_Month == 3:\n",
    "        return ('March')\n",
    "    elif Cancellation_Month == 4:\n",
    "        return ('April')\n",
    "    elif Cancellation_Month == 5:\n",
    "        return ('May')\n",
    "    elif Cancellation_Month == 6:\n",
    "        return ('June')\n",
    "    elif Cancellation_Month == 7:\n",
    "        return ('July')\n",
    "    elif Cancellation_Month == 8:\n",
    "        return ('August')\n",
    "    elif Cancellation_Month == 9:\n",
    "        return ('September')\n",
    "    elif Cancellation_Month == 10:\n",
    "        return ('October')\n",
    "    elif Cancellation_Month == 11:\n",
    "        return ('November')\n",
    "    elif Cancellation_Month == 12:\n",
    "        return ('December')\n",
    "    else:\n",
    "        return Cancellation_Month"
   ]
  },
  {
   "cell_type": "code",
   "execution_count": null,
   "metadata": {},
   "outputs": [],
   "source": [
    "# Aplico ambas funciones:\n",
    "df_m['Enrollment_Month'] = df_m['Enrollment_Month'].apply(mes2)\n",
    "\n",
    "df_m['Cancellation_Month'] = df_m['Cancellation_Month'].apply(mes3)"
   ]
  },
  {
   "cell_type": "code",
   "execution_count": null,
   "metadata": {},
   "outputs": [],
   "source": [
    "# Cambio de nuevo los nombres de las columnas:\n",
    "df_m.rename(columns = {'Enrollment_Month': 'Enrollment Month'}, inplace = True)\n",
    "\n",
    "df_m.rename(columns = {'Cancellation_Month': 'Cancellation Month'}, inplace = True)"
   ]
  },
  {
   "cell_type": "code",
   "execution_count": null,
   "metadata": {},
   "outputs": [],
   "source": [
    "# Reviso que todo se haya ejecutado correctamente:\n",
    "df_m['Month'].value_counts().to_frame().T"
   ]
  },
  {
   "cell_type": "code",
   "execution_count": null,
   "metadata": {},
   "outputs": [],
   "source": [
    "df_m['Enrollment Month'].value_counts().to_frame().T"
   ]
  },
  {
   "cell_type": "code",
   "execution_count": null,
   "metadata": {},
   "outputs": [],
   "source": [
    "df_m['Cancellation Month'].value_counts().to_frame().T"
   ]
  },
  {
   "cell_type": "markdown",
   "metadata": {},
   "source": [
    "Continúo con la columna 'Salary':\n",
    "- Hay valores negativos.\n",
    "- Los valores tienen demasiados decimales.\n",
    "- El porcentaje de nulos es alto, debo tratarlos con técnicas avanzadas."
   ]
  },
  {
   "cell_type": "code",
   "execution_count": 9,
   "metadata": {},
   "outputs": [],
   "source": [
    "# Considero que los valores negativos en 'Salary' deben tratarse de un error por lo que los cambiaré a positivos.\n",
    "# Para esto haré una función:\n",
    "def positivo(Salary):\n",
    "    if Salary < 0:\n",
    "        return (Salary * -1)\n",
    "    else:\n",
    "        return Salary"
   ]
  },
  {
   "cell_type": "code",
   "execution_count": 10,
   "metadata": {},
   "outputs": [],
   "source": [
    "# Aplico la función\n",
    "df_m['Salary'] = df_m['Salary'].apply(positivo)"
   ]
  },
  {
   "cell_type": "code",
   "execution_count": 11,
   "metadata": {},
   "outputs": [
    {
     "data": {
      "text/html": [
       "<div>\n",
       "<style scoped>\n",
       "    .dataframe tbody tr th:only-of-type {\n",
       "        vertical-align: middle;\n",
       "    }\n",
       "\n",
       "    .dataframe tbody tr th {\n",
       "        vertical-align: top;\n",
       "    }\n",
       "\n",
       "    .dataframe thead th {\n",
       "        text-align: right;\n",
       "    }\n",
       "</style>\n",
       "<table border=\"1\" class=\"dataframe\">\n",
       "  <thead>\n",
       "    <tr style=\"text-align: right;\">\n",
       "      <th></th>\n",
       "      <th>Loyalty Number</th>\n",
       "      <th>Country</th>\n",
       "      <th>Province</th>\n",
       "      <th>City</th>\n",
       "      <th>Postal Code</th>\n",
       "      <th>Gender</th>\n",
       "      <th>Education</th>\n",
       "      <th>Salary</th>\n",
       "      <th>Marital Status</th>\n",
       "      <th>Loyalty Card</th>\n",
       "      <th>CLV</th>\n",
       "      <th>Enrollment Type</th>\n",
       "      <th>Enrollment Year</th>\n",
       "      <th>Enrollment Month</th>\n",
       "      <th>Cancellation Year</th>\n",
       "      <th>Cancellation Month</th>\n",
       "      <th>Year</th>\n",
       "      <th>Month</th>\n",
       "      <th>Flights Booked</th>\n",
       "      <th>Flights with Companions</th>\n",
       "      <th>Total Flights</th>\n",
       "      <th>Distance</th>\n",
       "      <th>Points Accumulated</th>\n",
       "      <th>Points Redeemed</th>\n",
       "      <th>Dollar Cost Points Redeemed</th>\n",
       "    </tr>\n",
       "  </thead>\n",
       "  <tbody>\n",
       "  </tbody>\n",
       "</table>\n",
       "</div>"
      ],
      "text/plain": [
       "Empty DataFrame\n",
       "Columns: [Loyalty Number, Country, Province, City, Postal Code, Gender, Education, Salary, Marital Status, Loyalty Card, CLV, Enrollment Type, Enrollment Year, Enrollment Month, Cancellation Year, Cancellation Month, Year, Month, Flights Booked, Flights with Companions, Total Flights, Distance, Points Accumulated, Points Redeemed, Dollar Cost Points Redeemed]\n",
       "Index: []"
      ]
     },
     "execution_count": 11,
     "metadata": {},
     "output_type": "execute_result"
    }
   ],
   "source": [
    "# Compruebo que la función se ha ejecutado correctamente:\n",
    "df_m[(df_m['Salary'] < 0)]"
   ]
  },
  {
   "cell_type": "markdown",
   "metadata": {},
   "source": [
    "Utilizaré KNNImputer para tratar los nulos porque:\n",
    "- Es un porcentaje alto de nulos que debe tratarse de manera avanzada.\n",
    "- 'Salary' tiene como columnas cercanas datos que están estrechamente relacionados con el salario de una persona: el lugar donde reside, su sexo, su educación y su estado civil.\n",
    "- KNNImputer podrá predecir de una manera más precisa los datos al basarse en las otras columnas."
   ]
  },
  {
   "cell_type": "code",
   "execution_count": null,
   "metadata": {},
   "outputs": [],
   "source": [
    "# Paso el comando:\n",
    "imputer_knn = KNNImputer(n_neighbors=5)\n",
    "df_m['Salary'] = imputer_knn.fit_transform(df_m[['Salary']])"
   ]
  },
  {
   "cell_type": "code",
   "execution_count": null,
   "metadata": {},
   "outputs": [],
   "source": [
    "# Por último redondearé a dos decimales:\n",
    "df_m['Salary'] = df_m['Salary'].round(2)"
   ]
  },
  {
   "cell_type": "code",
   "execution_count": null,
   "metadata": {},
   "outputs": [],
   "source": [
    "# Compruebo que todos los nulos se hayan tratado:\n",
    "df_m.isnull().sum()"
   ]
  },
  {
   "cell_type": "code",
   "execution_count": null,
   "metadata": {},
   "outputs": [],
   "source": [
    "# Reviso de nuevo que todos los datos sean del tipo correcto:\n",
    "df_m.info()"
   ]
  },
  {
   "cell_type": "code",
   "execution_count": null,
   "metadata": {},
   "outputs": [],
   "source": [
    "# Guardo el data frame en un csv con todos los datos listos para usarse:\n",
    "df_m.to_csv(\"Flight Activity and Loyalty History.csv\", index=False)"
   ]
  },
  {
   "cell_type": "markdown",
   "metadata": {},
   "source": [
    "## Fase 2. Visualización."
   ]
  },
  {
   "cell_type": "code",
   "execution_count": 12,
   "metadata": {},
   "outputs": [],
   "source": [
    "# Cargo el Csv ya limpio:\n",
    "df_f = pd.read_csv(\"Flight Activity and Loyalty History.csv\")"
   ]
  },
  {
   "cell_type": "code",
   "execution_count": null,
   "metadata": {},
   "outputs": [],
   "source": [
    "# Reviso que esté correcto:\n",
    "df_f.head()"
   ]
  },
  {
   "cell_type": "code",
   "execution_count": null,
   "metadata": {},
   "outputs": [],
   "source": [
    "df_f.sample(5)"
   ]
  },
  {
   "cell_type": "markdown",
   "metadata": {},
   "source": [
    "### 1. ¿Cómo se distribuye la cantidad de vuelos reservados por mes durante cada año?"
   ]
  },
  {
   "cell_type": "code",
   "execution_count": 13,
   "metadata": {},
   "outputs": [
    {
     "data": {
      "text/html": [
       "<div>\n",
       "<style scoped>\n",
       "    .dataframe tbody tr th:only-of-type {\n",
       "        vertical-align: middle;\n",
       "    }\n",
       "\n",
       "    .dataframe tbody tr th {\n",
       "        vertical-align: top;\n",
       "    }\n",
       "\n",
       "    .dataframe thead th {\n",
       "        text-align: right;\n",
       "    }\n",
       "</style>\n",
       "<table border=\"1\" class=\"dataframe\">\n",
       "  <thead>\n",
       "    <tr style=\"text-align: right;\">\n",
       "      <th></th>\n",
       "      <th>Month</th>\n",
       "      <th>Year</th>\n",
       "      <th>Flights Booked</th>\n",
       "    </tr>\n",
       "  </thead>\n",
       "  <tbody>\n",
       "    <tr>\n",
       "      <th>0</th>\n",
       "      <td>April</td>\n",
       "      <td>2017</td>\n",
       "      <td>55720</td>\n",
       "    </tr>\n",
       "    <tr>\n",
       "      <th>1</th>\n",
       "      <td>April</td>\n",
       "      <td>2018</td>\n",
       "      <td>56791</td>\n",
       "    </tr>\n",
       "    <tr>\n",
       "      <th>2</th>\n",
       "      <td>August</td>\n",
       "      <td>2017</td>\n",
       "      <td>78692</td>\n",
       "    </tr>\n",
       "    <tr>\n",
       "      <th>3</th>\n",
       "      <td>August</td>\n",
       "      <td>2018</td>\n",
       "      <td>90512</td>\n",
       "    </tr>\n",
       "    <tr>\n",
       "      <th>4</th>\n",
       "      <td>December</td>\n",
       "      <td>2017</td>\n",
       "      <td>77650</td>\n",
       "    </tr>\n",
       "    <tr>\n",
       "      <th>5</th>\n",
       "      <td>December</td>\n",
       "      <td>2018</td>\n",
       "      <td>88397</td>\n",
       "    </tr>\n",
       "    <tr>\n",
       "      <th>6</th>\n",
       "      <td>February</td>\n",
       "      <td>2017</td>\n",
       "      <td>47691</td>\n",
       "    </tr>\n",
       "    <tr>\n",
       "      <th>7</th>\n",
       "      <td>February</td>\n",
       "      <td>2018</td>\n",
       "      <td>48643</td>\n",
       "    </tr>\n",
       "    <tr>\n",
       "      <th>8</th>\n",
       "      <td>January</td>\n",
       "      <td>2017</td>\n",
       "      <td>47766</td>\n",
       "    </tr>\n",
       "    <tr>\n",
       "      <th>9</th>\n",
       "      <td>January</td>\n",
       "      <td>2018</td>\n",
       "      <td>49170</td>\n",
       "    </tr>\n",
       "    <tr>\n",
       "      <th>10</th>\n",
       "      <td>July</td>\n",
       "      <td>2017</td>\n",
       "      <td>89288</td>\n",
       "    </tr>\n",
       "    <tr>\n",
       "      <th>11</th>\n",
       "      <td>July</td>\n",
       "      <td>2018</td>\n",
       "      <td>104143</td>\n",
       "    </tr>\n",
       "    <tr>\n",
       "      <th>12</th>\n",
       "      <td>June</td>\n",
       "      <td>2017</td>\n",
       "      <td>80493</td>\n",
       "    </tr>\n",
       "    <tr>\n",
       "      <th>13</th>\n",
       "      <td>June</td>\n",
       "      <td>2018</td>\n",
       "      <td>92749</td>\n",
       "    </tr>\n",
       "    <tr>\n",
       "      <th>14</th>\n",
       "      <td>March</td>\n",
       "      <td>2017</td>\n",
       "      <td>64271</td>\n",
       "    </tr>\n",
       "    <tr>\n",
       "      <th>15</th>\n",
       "      <td>March</td>\n",
       "      <td>2018</td>\n",
       "      <td>66928</td>\n",
       "    </tr>\n",
       "    <tr>\n",
       "      <th>16</th>\n",
       "      <td>May</td>\n",
       "      <td>2017</td>\n",
       "      <td>65279</td>\n",
       "    </tr>\n",
       "    <tr>\n",
       "      <th>17</th>\n",
       "      <td>May</td>\n",
       "      <td>2018</td>\n",
       "      <td>76891</td>\n",
       "    </tr>\n",
       "    <tr>\n",
       "      <th>18</th>\n",
       "      <td>November</td>\n",
       "      <td>2017</td>\n",
       "      <td>56905</td>\n",
       "    </tr>\n",
       "    <tr>\n",
       "      <th>19</th>\n",
       "      <td>November</td>\n",
       "      <td>2018</td>\n",
       "      <td>65345</td>\n",
       "    </tr>\n",
       "    <tr>\n",
       "      <th>20</th>\n",
       "      <td>October</td>\n",
       "      <td>2017</td>\n",
       "      <td>60351</td>\n",
       "    </tr>\n",
       "    <tr>\n",
       "      <th>21</th>\n",
       "      <td>October</td>\n",
       "      <td>2018</td>\n",
       "      <td>69110</td>\n",
       "    </tr>\n",
       "    <tr>\n",
       "      <th>22</th>\n",
       "      <td>September</td>\n",
       "      <td>2017</td>\n",
       "      <td>63304</td>\n",
       "    </tr>\n",
       "    <tr>\n",
       "      <th>23</th>\n",
       "      <td>September</td>\n",
       "      <td>2018</td>\n",
       "      <td>73075</td>\n",
       "    </tr>\n",
       "  </tbody>\n",
       "</table>\n",
       "</div>"
      ],
      "text/plain": [
       "        Month  Year  Flights Booked\n",
       "0       April  2017           55720\n",
       "1       April  2018           56791\n",
       "2      August  2017           78692\n",
       "3      August  2018           90512\n",
       "4    December  2017           77650\n",
       "5    December  2018           88397\n",
       "6    February  2017           47691\n",
       "7    February  2018           48643\n",
       "8     January  2017           47766\n",
       "9     January  2018           49170\n",
       "10       July  2017           89288\n",
       "11       July  2018          104143\n",
       "12       June  2017           80493\n",
       "13       June  2018           92749\n",
       "14      March  2017           64271\n",
       "15      March  2018           66928\n",
       "16        May  2017           65279\n",
       "17        May  2018           76891\n",
       "18   November  2017           56905\n",
       "19   November  2018           65345\n",
       "20    October  2017           60351\n",
       "21    October  2018           69110\n",
       "22  September  2017           63304\n",
       "23  September  2018           73075"
      ]
     },
     "execution_count": 13,
     "metadata": {},
     "output_type": "execute_result"
    }
   ],
   "source": [
    "# Agrupo por mes y por año y después hago un recuento de vuelos reservados en cada mes.\n",
    "# Añado un pequeño df para revisar los datos antes de convertirlos a gráfico\n",
    "df_f1 = df_f.groupby(['Month', 'Year'])['Flights Booked'].sum().reset_index()\n",
    "df_f1 = pd.DataFrame(df_f1)\n",
    "df_f1"
   ]
  },
  {
   "cell_type": "code",
   "execution_count": 14,
   "metadata": {},
   "outputs": [
    {
     "data": {
      "image/png": "[encoded data removed]",
      "text/plain": [
       "<Figure size 900x700 with 1 Axes>"
      ]
     },
     "metadata": {},
     "output_type": "display_data"
    }
   ],
   "source": [
    "order = ['January', 'February', 'March', 'April', 'May', 'June', \n",
    "         'July', 'August', 'September', 'October', 'November', 'December'] #Ordeno manualmente los meses.\n",
    "\n",
    "plt.figure(facecolor='whitesmoke', figsize=(9,7)) #Ajusto el color de fondo y el tamaño del gráfico.\n",
    "\n",
    "ax = sns.barplot(x='Month', y='Flights Booked', data=df_f1, \n",
    "                 palette=['aquamarine', 'lightseagreen'], hue='Year', order=order) #Creo el gráfico.\n",
    "\n",
    "max_flights = df_f1['Flights Booked'].max()\n",
    "plt.ylim(0, max_flights * 1.1) #Añado este comando para que el gráfico se ajuste a los valores de 'Flights Booked'.\n",
    "\n",
    "plt.xticks(rotation=45) #Ajusto los meses para verlos más claros.\n",
    "\n",
    "#Modifico el título:\n",
    "plt.title(\"Flights Booked per Month and Year\", \n",
    "          fontsize=14, fontweight='normal', \n",
    "          bbox=dict(facecolor='paleturquoise', edgecolor='dimgrey', boxstyle='round,pad=0.2'))\n",
    "\n",
    "#Modifico las etiquetas de ambos ejes:\n",
    "plt.xlabel(\"Month\", fontsize=13, fontweight='normal', \n",
    "            labelpad=10, bbox=dict(facecolor='gainsboro', edgecolor='lightgray', boxstyle='round,pad=0.2'))\n",
    "plt.ylabel(\"Flights Booked\", fontsize=13, fontweight='normal', \n",
    "            labelpad=10, bbox=dict(facecolor='gainsboro', edgecolor='lightgray', boxstyle='round,pad=0.2'))\n",
    "\n",
    "plt.grid(True) #Añado la cuadrícula enmarco.\n",
    "for spine in ax.spines.values():\n",
    "    spine.set_edgecolor('black')\n",
    "    spine.set_linewidth(1.1)\n",
    "\n",
    "plt.show() #Muestro el gráfico."
   ]
  },
  {
   "cell_type": "markdown",
   "metadata": {},
   "source": [
    "- Lo primero que destaca es el aumento de vuelos en 2018 respecto a 2017, hasta abril se mantenía ligeramente por encima pero a partir del mes de mayo hay sube considerablemente la cantidad de vuelos reservados en 2018.\n",
    "- Vemos tres grupos claros de cambios en reservas:\n",
    "    - El primer grupo: lo forma el mes de Diciembre, que coincide con vacaciones de Navidad, y los meses de Junio, Julio y Agosto que coinciden con las vacaciones de verano.\n",
    "    - El segundo grupo lo forman los meses de Marzo, Abril, Septiembre, Octubre y Noviembre.\n",
    "    - El tercer grupo lo forman Enero y Febrero.\n",
    "- Destaca el primer grupo llegando a duplicar las reservas del tercero y sobrepasando al segundo con un tercio.\n",
    "- Dentro del segundo grupo los valores son bastante homoǵeneos siguiendo la tendecnia al aumento de reservas de Enero a Julio y descenso de Julio a Noviembre para volver a subir en Diciembre, el único mes que se aleja un poco de esta tendencia es Abril.\n",
    "- Por último el tercer grupo vemos que los valores son prácticamente los mismos entre los dos meses de Enero y Febrero, donde presuponemos que la gente está recuperándose de las vacaciones de navidad."
   ]
  },
  {
   "cell_type": "markdown",
   "metadata": {},
   "source": [
    "### 2. ¿Existe una relación entre la distancia de los vuelos y los puntos acumulados por los cliente?\n"
   ]
  },
  {
   "cell_type": "code",
   "execution_count": 15,
   "metadata": {},
   "outputs": [
    {
     "data": {
      "text/html": [
       "<div>\n",
       "<style scoped>\n",
       "    .dataframe tbody tr th:only-of-type {\n",
       "        vertical-align: middle;\n",
       "    }\n",
       "\n",
       "    .dataframe tbody tr th {\n",
       "        vertical-align: top;\n",
       "    }\n",
       "\n",
       "    .dataframe thead th {\n",
       "        text-align: right;\n",
       "    }\n",
       "</style>\n",
       "<table border=\"1\" class=\"dataframe\">\n",
       "  <thead>\n",
       "    <tr style=\"text-align: right;\">\n",
       "      <th></th>\n",
       "      <th>Points Accumulated</th>\n",
       "      <th>Distance</th>\n",
       "    </tr>\n",
       "    <tr>\n",
       "      <th>Loyalty Number</th>\n",
       "      <th></th>\n",
       "      <th></th>\n",
       "    </tr>\n",
       "  </thead>\n",
       "  <tbody>\n",
       "    <tr>\n",
       "      <th>100018</th>\n",
       "      <td>5376.00</td>\n",
       "      <td>50682</td>\n",
       "    </tr>\n",
       "    <tr>\n",
       "      <th>100102</th>\n",
       "      <td>4115.25</td>\n",
       "      <td>40222</td>\n",
       "    </tr>\n",
       "    <tr>\n",
       "      <th>100140</th>\n",
       "      <td>4184.25</td>\n",
       "      <td>41252</td>\n",
       "    </tr>\n",
       "    <tr>\n",
       "      <th>100214</th>\n",
       "      <td>3426.00</td>\n",
       "      <td>33982</td>\n",
       "    </tr>\n",
       "    <tr>\n",
       "      <th>100272</th>\n",
       "      <td>4108.04</td>\n",
       "      <td>40872</td>\n",
       "    </tr>\n",
       "    <tr>\n",
       "      <th>...</th>\n",
       "      <td>...</td>\n",
       "      <td>...</td>\n",
       "    </tr>\n",
       "    <tr>\n",
       "      <th>999902</th>\n",
       "      <td>6056.50</td>\n",
       "      <td>57227</td>\n",
       "    </tr>\n",
       "    <tr>\n",
       "      <th>999911</th>\n",
       "      <td>0.00</td>\n",
       "      <td>0</td>\n",
       "    </tr>\n",
       "    <tr>\n",
       "      <th>999940</th>\n",
       "      <td>2415.00</td>\n",
       "      <td>23410</td>\n",
       "    </tr>\n",
       "    <tr>\n",
       "      <th>999982</th>\n",
       "      <td>594.00</td>\n",
       "      <td>5948</td>\n",
       "    </tr>\n",
       "    <tr>\n",
       "      <th>999986</th>\n",
       "      <td>3418.00</td>\n",
       "      <td>32937</td>\n",
       "    </tr>\n",
       "  </tbody>\n",
       "</table>\n",
       "<p>16737 rows × 2 columns</p>\n",
       "</div>"
      ],
      "text/plain": [
       "                Points Accumulated  Distance\n",
       "Loyalty Number                              \n",
       "100018                     5376.00     50682\n",
       "100102                     4115.25     40222\n",
       "100140                     4184.25     41252\n",
       "100214                     3426.00     33982\n",
       "100272                     4108.04     40872\n",
       "...                            ...       ...\n",
       "999902                     6056.50     57227\n",
       "999911                        0.00         0\n",
       "999940                     2415.00     23410\n",
       "999982                      594.00      5948\n",
       "999986                     3418.00     32937\n",
       "\n",
       "[16737 rows x 2 columns]"
      ]
     },
     "execution_count": 15,
     "metadata": {},
     "output_type": "execute_result"
    }
   ],
   "source": [
    "# Agrupo los datos por cliente y después sumo los puntos acumulados y la distancia.\n",
    "df_f2 = df_f.groupby('Loyalty Number')[['Points Accumulated', 'Distance']].sum()\n",
    "df_f2"
   ]
  },
  {
   "cell_type": "code",
   "execution_count": 16,
   "metadata": {},
   "outputs": [
    {
     "data": {
      "text/html": [
       "<div>\n",
       "<style scoped>\n",
       "    .dataframe tbody tr th:only-of-type {\n",
       "        vertical-align: middle;\n",
       "    }\n",
       "\n",
       "    .dataframe tbody tr th {\n",
       "        vertical-align: top;\n",
       "    }\n",
       "\n",
       "    .dataframe thead th {\n",
       "        text-align: right;\n",
       "    }\n",
       "</style>\n",
       "<table border=\"1\" class=\"dataframe\">\n",
       "  <thead>\n",
       "    <tr style=\"text-align: right;\">\n",
       "      <th></th>\n",
       "      <th>count</th>\n",
       "      <th>mean</th>\n",
       "      <th>std</th>\n",
       "      <th>min</th>\n",
       "      <th>25%</th>\n",
       "      <th>50%</th>\n",
       "      <th>75%</th>\n",
       "      <th>max</th>\n",
       "    </tr>\n",
       "  </thead>\n",
       "  <tbody>\n",
       "    <tr>\n",
       "      <th>Points Accumulated</th>\n",
       "      <td>16737.0</td>\n",
       "      <td>2997.713823</td>\n",
       "      <td>1616.039377</td>\n",
       "      <td>0.0</td>\n",
       "      <td>1822.48</td>\n",
       "      <td>3454.28</td>\n",
       "      <td>4181.0</td>\n",
       "      <td>10587.5</td>\n",
       "    </tr>\n",
       "    <tr>\n",
       "      <th>Distance</th>\n",
       "      <td>16737.0</td>\n",
       "      <td>29297.410826</td>\n",
       "      <td>15770.007792</td>\n",
       "      <td>0.0</td>\n",
       "      <td>17722.00</td>\n",
       "      <td>33815.00</td>\n",
       "      <td>40809.0</td>\n",
       "      <td>101959.0</td>\n",
       "    </tr>\n",
       "  </tbody>\n",
       "</table>\n",
       "</div>"
      ],
      "text/plain": [
       "                      count          mean           std  min       25%  \\\n",
       "Points Accumulated  16737.0   2997.713823   1616.039377  0.0   1822.48   \n",
       "Distance            16737.0  29297.410826  15770.007792  0.0  17722.00   \n",
       "\n",
       "                         50%      75%       max  \n",
       "Points Accumulated   3454.28   4181.0   10587.5  \n",
       "Distance            33815.00  40809.0  101959.0  "
      ]
     },
     "execution_count": 16,
     "metadata": {},
     "output_type": "execute_result"
    }
   ],
   "source": [
    "df_f2.describe().T"
   ]
  },
  {
   "cell_type": "code",
   "execution_count": 17,
   "metadata": {},
   "outputs": [
    {
     "data": {
      "image/png": "[encoded data removed]",
      "text/plain": [
       "<Figure size 900x700 with 1 Axes>"
      ]
     },
     "metadata": {},
     "output_type": "display_data"
    }
   ],
   "source": [
    "# Creo las dos variables a partir de mi df:\n",
    "x = df_f2['Points Accumulated']\n",
    "y = df_f2['Distance']\n",
    "\n",
    "plt.figure(facecolor='whitesmoke', figsize=(9,7)) #Ajusto el color de fondo y el tamaño del gráfico.\n",
    "\n",
    "plt.scatter(x, y, c = ['lightseagreen',], marker='.') #Creo el gráfico.\n",
    "\n",
    "# Modifico el título:\n",
    "plt.title(\"Relación entre Points Accumulated y Distance\", \n",
    "          fontsize=14, fontweight='normal', \n",
    "          bbox=dict(facecolor='paleturquoise', edgecolor='dimgrey', boxstyle='round,pad=0.2'))\n",
    "\n",
    "# Modifico las etiquetas de ambos ejes:\n",
    "plt.xlabel(\"Points Accumulated\", fontsize=13, fontweight='normal', \n",
    "              labelpad=10, bbox=dict(facecolor='gainsboro', edgecolor='lightgray', boxstyle='round,pad=0.2'))\n",
    "plt.ylabel(\"Distance\", fontsize=13, fontweight='normal', \n",
    "              labelpad=10, bbox=dict(facecolor='gainsboro', edgecolor='lightgray', boxstyle='round,pad=0.2'))\n",
    "\n",
    "plt.grid(True) #Añado la cuadrícula y enmarco.\n",
    "ax = plt.gca()\n",
    "for spine in ax.spines.values():\n",
    "    spine.set_edgecolor('black')\n",
    "    spine.set_linewidth(1.1)\n",
    "    \n",
    "plt.show() #Muestro el gráfico."
   ]
  },
  {
   "cell_type": "markdown",
   "metadata": {},
   "source": [
    "- En este gráfico vemos una clara relación entre la Distancia de vuelo y los puntos acumulados, a más distancia más puntos acumulados.\n",
    "\n",
    "- Gracias a la descripción del df podemos constatar que:\n",
    "    - La mayor distancia a la que han viajado ha sido: 10.1959.\n",
    "    - La persona con más puntos acumulados tiene: 10587.5.\n",
    "    - La media de distancia de vuelo es 2.9297.\n",
    "\n",
    "- El gráfico nos permite observar de manera más visual a qué distancia suelen viajar los clientes, podríamos dividirla en tres grupos:\n",
    "    - Vuelos de hasta 60.000. Franja en la que se acumula el mayor número de vuelos.\n",
    "    - Vuelos entre 60.000 y 90.000. Donde baja considerablemente la cantidad de reservas.\n",
    "    - Vuelos a partir de 90.000 límite desde el cual vemos vuelos muy puntuales."
   ]
  },
  {
   "cell_type": "markdown",
   "metadata": {},
   "source": [
    "### 3. ¿Cuál es la distribución de los clientes por provincia o estado?"
   ]
  },
  {
   "cell_type": "code",
   "execution_count": 18,
   "metadata": {},
   "outputs": [
    {
     "data": {
      "text/html": [
       "<div>\n",
       "<style scoped>\n",
       "    .dataframe tbody tr th:only-of-type {\n",
       "        vertical-align: middle;\n",
       "    }\n",
       "\n",
       "    .dataframe tbody tr th {\n",
       "        vertical-align: top;\n",
       "    }\n",
       "\n",
       "    .dataframe thead th {\n",
       "        text-align: right;\n",
       "    }\n",
       "</style>\n",
       "<table border=\"1\" class=\"dataframe\">\n",
       "  <thead>\n",
       "    <tr style=\"text-align: right;\">\n",
       "      <th></th>\n",
       "      <th>Loyalty Number</th>\n",
       "    </tr>\n",
       "    <tr>\n",
       "      <th>Province</th>\n",
       "      <th></th>\n",
       "    </tr>\n",
       "  </thead>\n",
       "  <tbody>\n",
       "    <tr>\n",
       "      <th>Alberta</th>\n",
       "      <td>969</td>\n",
       "    </tr>\n",
       "    <tr>\n",
       "      <th>British Columbia</th>\n",
       "      <td>4409</td>\n",
       "    </tr>\n",
       "    <tr>\n",
       "      <th>Manitoba</th>\n",
       "      <td>658</td>\n",
       "    </tr>\n",
       "    <tr>\n",
       "      <th>New Brunswick</th>\n",
       "      <td>636</td>\n",
       "    </tr>\n",
       "    <tr>\n",
       "      <th>Newfoundland</th>\n",
       "      <td>258</td>\n",
       "    </tr>\n",
       "    <tr>\n",
       "      <th>Nova Scotia</th>\n",
       "      <td>518</td>\n",
       "    </tr>\n",
       "    <tr>\n",
       "      <th>Ontario</th>\n",
       "      <td>5404</td>\n",
       "    </tr>\n",
       "    <tr>\n",
       "      <th>Prince Edward Island</th>\n",
       "      <td>66</td>\n",
       "    </tr>\n",
       "    <tr>\n",
       "      <th>Quebec</th>\n",
       "      <td>3300</td>\n",
       "    </tr>\n",
       "    <tr>\n",
       "      <th>Saskatchewan</th>\n",
       "      <td>409</td>\n",
       "    </tr>\n",
       "    <tr>\n",
       "      <th>Yukon</th>\n",
       "      <td>110</td>\n",
       "    </tr>\n",
       "  </tbody>\n",
       "</table>\n",
       "</div>"
      ],
      "text/plain": [
       "                      Loyalty Number\n",
       "Province                            \n",
       "Alberta                          969\n",
       "British Columbia                4409\n",
       "Manitoba                         658\n",
       "New Brunswick                    636\n",
       "Newfoundland                     258\n",
       "Nova Scotia                      518\n",
       "Ontario                         5404\n",
       "Prince Edward Island              66\n",
       "Quebec                          3300\n",
       "Saskatchewan                     409\n",
       "Yukon                            110"
      ]
     },
     "execution_count": 18,
     "metadata": {},
     "output_type": "execute_result"
    }
   ],
   "source": [
    "# Agrupo por provincia y cuento los valores únicos de 'Loyalty Number'.\n",
    "# Lo hago así porque cada cliente tiene varias filas y solo queremos contar una vez cada cliente.\n",
    "df_f3 = df_f.groupby('Province')['Loyalty Number'].nunique()\n",
    "df_f3a = pd.DataFrame(df_f3)\n",
    "df_f3a"
   ]
  },
  {
   "cell_type": "code",
   "execution_count": 19,
   "metadata": {},
   "outputs": [
    {
     "data": {
      "text/html": [
       "<div>\n",
       "<style scoped>\n",
       "    .dataframe tbody tr th:only-of-type {\n",
       "        vertical-align: middle;\n",
       "    }\n",
       "\n",
       "    .dataframe tbody tr th {\n",
       "        vertical-align: top;\n",
       "    }\n",
       "\n",
       "    .dataframe thead th {\n",
       "        text-align: right;\n",
       "    }\n",
       "</style>\n",
       "<table border=\"1\" class=\"dataframe\">\n",
       "  <thead>\n",
       "    <tr style=\"text-align: right;\">\n",
       "      <th></th>\n",
       "      <th>Province</th>\n",
       "      <th>Loyalty Number</th>\n",
       "    </tr>\n",
       "  </thead>\n",
       "  <tbody>\n",
       "    <tr>\n",
       "      <th>7</th>\n",
       "      <td>Prince Edward Island</td>\n",
       "      <td>66</td>\n",
       "    </tr>\n",
       "    <tr>\n",
       "      <th>10</th>\n",
       "      <td>Yukon</td>\n",
       "      <td>110</td>\n",
       "    </tr>\n",
       "    <tr>\n",
       "      <th>4</th>\n",
       "      <td>Newfoundland</td>\n",
       "      <td>258</td>\n",
       "    </tr>\n",
       "    <tr>\n",
       "      <th>9</th>\n",
       "      <td>Saskatchewan</td>\n",
       "      <td>409</td>\n",
       "    </tr>\n",
       "    <tr>\n",
       "      <th>5</th>\n",
       "      <td>Nova Scotia</td>\n",
       "      <td>518</td>\n",
       "    </tr>\n",
       "    <tr>\n",
       "      <th>3</th>\n",
       "      <td>New Brunswick</td>\n",
       "      <td>636</td>\n",
       "    </tr>\n",
       "    <tr>\n",
       "      <th>2</th>\n",
       "      <td>Manitoba</td>\n",
       "      <td>658</td>\n",
       "    </tr>\n",
       "    <tr>\n",
       "      <th>0</th>\n",
       "      <td>Alberta</td>\n",
       "      <td>969</td>\n",
       "    </tr>\n",
       "    <tr>\n",
       "      <th>8</th>\n",
       "      <td>Quebec</td>\n",
       "      <td>3300</td>\n",
       "    </tr>\n",
       "    <tr>\n",
       "      <th>1</th>\n",
       "      <td>British Columbia</td>\n",
       "      <td>4409</td>\n",
       "    </tr>\n",
       "    <tr>\n",
       "      <th>6</th>\n",
       "      <td>Ontario</td>\n",
       "      <td>5404</td>\n",
       "    </tr>\n",
       "  </tbody>\n",
       "</table>\n",
       "</div>"
      ],
      "text/plain": [
       "                Province  Loyalty Number\n",
       "7   Prince Edward Island              66\n",
       "10                 Yukon             110\n",
       "4           Newfoundland             258\n",
       "9           Saskatchewan             409\n",
       "5            Nova Scotia             518\n",
       "3          New Brunswick             636\n",
       "2               Manitoba             658\n",
       "0                Alberta             969\n",
       "8                 Quebec            3300\n",
       "1       British Columbia            4409\n",
       "6                Ontario            5404"
      ]
     },
     "execution_count": 19,
     "metadata": {},
     "output_type": "execute_result"
    }
   ],
   "source": [
    "# Creo un nuevo df con los valores de mi df3 ordenados de manera ascendente y añado un índice.\n",
    "# Sin este índice no podría graficar el df.\n",
    "df_f3_reset = df_f3.reset_index().sort_values(by='Loyalty Number', ascending=True)\n",
    "df_f3_reset"
   ]
  },
  {
   "cell_type": "code",
   "execution_count": 21,
   "metadata": {},
   "outputs": [
    {
     "data": {
      "image/png": "[encoded data removed]",
      "text/plain": [
       "<Figure size 900x700 with 1 Axes>"
      ]
     },
     "metadata": {},
     "output_type": "display_data"
    }
   ],
   "source": [
    "plt.figure(facecolor='whitesmoke', figsize=(9,7)) # Ajusto el color de fondo y el tamaño del gráfico.\n",
    "\n",
    "# Creo el gráfico y la variable \"ax\" para poder añadir etiquetas.\n",
    "ax = sns.barplot(x='Loyalty Number', y='Province', data=df_f3_reset, \n",
    "                 hue='Province', palette='viridis', dodge=False)\n",
    "plt.legend([],[], frameon=False)\n",
    "\n",
    "# Agrego las etiquetas con los valores de cada Provincia con un bucle:\n",
    "for container in ax.containers:\n",
    "    ax.bar_label(container, fmt='%d', padding=3, fontsize=12, color='black')\n",
    "\n",
    "# Modifico el título:\n",
    "plt.title(\"Número de clientes por Provincia\", \n",
    "          fontsize=14, fontweight='normal', \n",
    "          bbox=dict(facecolor='paleturquoise', edgecolor='dimgrey', boxstyle='round,pad=0.2'))\n",
    "\n",
    "# Modifico las etiquetas de ambos ejes:\n",
    "plt.xlabel('Clients', fontsize=13, fontweight='normal', \n",
    "            labelpad=10, bbox=dict(facecolor='gainsboro', edgecolor='lightgray', boxstyle='round,pad=0.2'))\n",
    "plt.ylabel('Province', fontsize=13, fontweight='normal', \n",
    "            labelpad=10, bbox=dict(facecolor='gainsboro', edgecolor='lightgray', boxstyle='round,pad=0.2'))\n",
    "\n",
    "\n",
    "#A ñado la cuadrícula, modificada para leer mejor las etiquetas y enmarco:\n",
    "plt.grid(axis='x', linestyle='--', alpha=0.7)\n",
    "ax = plt.gca()\n",
    "for spine in ax.spines.values():\n",
    "    spine.set_edgecolor('black')\n",
    "    spine.set_linewidth(1.1)\n",
    "\n",
    "plt.xlim(0, 6000) #Amplio el límite para que la etiqueta de Ontario se lea correctamente.\n",
    "\n",
    "plt.show() #Muestro el gráfico."
   ]
  },
  {
   "cell_type": "markdown",
   "metadata": {},
   "source": [
    "- Igual que en el anterior gráfico vemos claramente que hay tres provincias que destacan por su cantidad de clientes:\n",
    "    - Ontario en primer puesto con 5404 clientes.\n",
    "    - British Columbia en el segundo con 4409 clientes.\n",
    "    - Quebec en tercer puesto con 3300 clientes.\n",
    "- En el resto de provincias vemos una distribución que sube moderadamente, observamos que:\n",
    "    - Alberta destaca entre todas, pasando en un tercio a su anterior\n",
    "    - Manitoba y New Brunswick tienen un número muy parecido de clientes\n",
    "    - La provincia con menos clientes es Prince Edward Island con 66.\n",
    "\n",
    "- Como valores a destacar tenemos:\n",
    "    - El máximo de clientes en Ontario con 5404.\n",
    "    - El mínimo en Prince Edward Island con 66."
   ]
  },
  {
   "cell_type": "markdown",
   "metadata": {},
   "source": [
    "### 4. Compara el salario promedio por nivel educativo."
   ]
  },
  {
   "cell_type": "code",
   "execution_count": 22,
   "metadata": {},
   "outputs": [
    {
     "data": {
      "text/html": [
       "<div>\n",
       "<style scoped>\n",
       "    .dataframe tbody tr th:only-of-type {\n",
       "        vertical-align: middle;\n",
       "    }\n",
       "\n",
       "    .dataframe tbody tr th {\n",
       "        vertical-align: top;\n",
       "    }\n",
       "\n",
       "    .dataframe thead th {\n",
       "        text-align: right;\n",
       "    }\n",
       "</style>\n",
       "<table border=\"1\" class=\"dataframe\">\n",
       "  <thead>\n",
       "    <tr style=\"text-align: right;\">\n",
       "      <th></th>\n",
       "      <th>Education</th>\n",
       "      <th>Salary</th>\n",
       "    </tr>\n",
       "  </thead>\n",
       "  <tbody>\n",
       "    <tr>\n",
       "      <th>0</th>\n",
       "      <td>Bachelor</td>\n",
       "      <td>72599.08</td>\n",
       "    </tr>\n",
       "    <tr>\n",
       "      <th>1</th>\n",
       "      <td>College</td>\n",
       "      <td>79371.73</td>\n",
       "    </tr>\n",
       "    <tr>\n",
       "      <th>2</th>\n",
       "      <td>Doctor</td>\n",
       "      <td>178403.68</td>\n",
       "    </tr>\n",
       "    <tr>\n",
       "      <th>3</th>\n",
       "      <td>High School or Below</td>\n",
       "      <td>61146.38</td>\n",
       "    </tr>\n",
       "    <tr>\n",
       "      <th>4</th>\n",
       "      <td>Master</td>\n",
       "      <td>103734.52</td>\n",
       "    </tr>\n",
       "  </tbody>\n",
       "</table>\n",
       "</div>"
      ],
      "text/plain": [
       "              Education     Salary\n",
       "0              Bachelor   72599.08\n",
       "1               College   79371.73\n",
       "2                Doctor  178403.68\n",
       "3  High School or Below   61146.38\n",
       "4                Master  103734.52"
      ]
     },
     "execution_count": 22,
     "metadata": {},
     "output_type": "execute_result"
    }
   ],
   "source": [
    "# Agrupo por 'Education', hago la media de 'Salary' y la redondeo a 2 decimales para visualizarlo mejor:\n",
    "df_f4 = df_f.groupby('Education')['Salary'].mean().round(2).reset_index()\n",
    "df_f4"
   ]
  },
  {
   "cell_type": "code",
   "execution_count": 23,
   "metadata": {},
   "outputs": [
    {
     "data": {
      "text/html": [
       "<div>\n",
       "<style scoped>\n",
       "    .dataframe tbody tr th:only-of-type {\n",
       "        vertical-align: middle;\n",
       "    }\n",
       "\n",
       "    .dataframe tbody tr th {\n",
       "        vertical-align: top;\n",
       "    }\n",
       "\n",
       "    .dataframe thead th {\n",
       "        text-align: right;\n",
       "    }\n",
       "</style>\n",
       "<table border=\"1\" class=\"dataframe\">\n",
       "  <thead>\n",
       "    <tr style=\"text-align: right;\">\n",
       "      <th></th>\n",
       "      <th>Education</th>\n",
       "      <th>Salary</th>\n",
       "    </tr>\n",
       "  </thead>\n",
       "  <tbody>\n",
       "    <tr>\n",
       "      <th>0</th>\n",
       "      <td>Doctor</td>\n",
       "      <td>178403.68</td>\n",
       "    </tr>\n",
       "    <tr>\n",
       "      <th>1</th>\n",
       "      <td>Master</td>\n",
       "      <td>103734.52</td>\n",
       "    </tr>\n",
       "    <tr>\n",
       "      <th>2</th>\n",
       "      <td>College</td>\n",
       "      <td>79371.73</td>\n",
       "    </tr>\n",
       "    <tr>\n",
       "      <th>3</th>\n",
       "      <td>Bachelor</td>\n",
       "      <td>72599.08</td>\n",
       "    </tr>\n",
       "    <tr>\n",
       "      <th>4</th>\n",
       "      <td>High School or Below</td>\n",
       "      <td>61146.38</td>\n",
       "    </tr>\n",
       "  </tbody>\n",
       "</table>\n",
       "</div>"
      ],
      "text/plain": [
       "              Education     Salary\n",
       "0                Doctor  178403.68\n",
       "1                Master  103734.52\n",
       "2               College   79371.73\n",
       "3              Bachelor   72599.08\n",
       "4  High School or Below   61146.38"
      ]
     },
     "execution_count": 23,
     "metadata": {},
     "output_type": "execute_result"
    }
   ],
   "source": [
    "# Ordeno el df por 'Salary':\n",
    "df_f41 = df_f4.sort_values('Salary', ascending=False).reset_index()\n",
    "df_f41.drop('index', axis=1, inplace=True)\n",
    "df_f41"
   ]
  },
  {
   "cell_type": "code",
   "execution_count": 24,
   "metadata": {},
   "outputs": [
    {
     "data": {
      "image/png": "[encoded data removed]",
      "text/plain": [
       "<Figure size 900x700 with 1 Axes>"
      ]
     },
     "metadata": {},
     "output_type": "display_data"
    }
   ],
   "source": [
    "plt.figure(facecolor='whitesmoke', figsize=(9,7)) #Ajusto el color de fondo y el tamaño del gráfico.\n",
    "\n",
    "# Creo el gráfico y la variable \"ax\" para poder añadir etiquetas:\n",
    "ax = sns.barplot(x='Education', y='Salary', data=df_f41,\n",
    "                 hue='Salary', palette='viridis', dodge=False)\n",
    "plt.legend([], [], frameon=False)\n",
    "\n",
    "# Agrego las etiquetas con los valores de 'Salary' con un bucle:\n",
    "for container in ax.containers:\n",
    "    ax.bar_label(container, fmt='%.0f', padding=5, fontsize=12, color='black')\n",
    "\n",
    "# Modifico el título:\n",
    "plt.title(\"Salario Promedio por Nivel de Educación\", fontsize=14, fontweight='normal', \n",
    "          bbox=dict(facecolor='paleturquoise', edgecolor='dimgrey', boxstyle='round,pad=0.2'))\n",
    "\n",
    "# Modifico las etiquetas de ambos ejes:\n",
    "plt.xlabel('Education', fontsize=13, fontweight='normal', \n",
    "              labelpad=10, bbox=dict(facecolor='gainsboro', edgecolor='lightgray', boxstyle='round,pad=0.2'))\n",
    "plt.ylabel('Salary', fontsize=13, fontweight='normal', \n",
    "              labelpad=10, bbox=dict(facecolor='gainsboro', edgecolor='lightgray', boxstyle='round,pad=0.2'))\n",
    "\n",
    "# Añado solamente líneas horizontales.\n",
    "plt.grid(axis='y', linestyle='--', alpha=0.7)\n",
    "\n",
    "# Ajusto los valores del gráfico:\n",
    "ax.spines['top'].set_visible(False)\n",
    "ax.spines['right'].set_visible(False)\n",
    "for spine in ax.spines.values():\n",
    "    spine.set_edgecolor('black')\n",
    "    spine.set_linewidth(1.1)\n",
    "\n",
    "plt.show() #Muestro el gráfico.\n"
   ]
  },
  {
   "cell_type": "markdown",
   "metadata": {},
   "source": [
    "- Obervamos un claro aumento de la media del salario según el nivel educativo.\n",
    "    - 'Doctor' destaca con la media máxima en 178404.\n",
    "    - Los demás niveles educativos siguen una tendencia mas suave:\n",
    "        - 'Master' sobresale.\n",
    "        - 'College' y 'Bachelor' tienen valores muy parecidos.\n",
    "        - 'High School or Below' es la media mínima, pero sin alejarse demasiado del siguiente valor pero siendo menos de la mitad del valor máximo en 'Doctor'."
   ]
  },
  {
   "cell_type": "markdown",
   "metadata": {},
   "source": [
    "### 5. ¿Cuál es el porcentaje de clientes por cada tipo de tarjeta de fidelidad?\n",
    "\n"
   ]
  },
  {
   "cell_type": "code",
   "execution_count": 25,
   "metadata": {},
   "outputs": [
    {
     "data": {
      "text/html": [
       "<div>\n",
       "<style scoped>\n",
       "    .dataframe tbody tr th:only-of-type {\n",
       "        vertical-align: middle;\n",
       "    }\n",
       "\n",
       "    .dataframe tbody tr th {\n",
       "        vertical-align: top;\n",
       "    }\n",
       "\n",
       "    .dataframe thead th {\n",
       "        text-align: right;\n",
       "    }\n",
       "</style>\n",
       "<table border=\"1\" class=\"dataframe\">\n",
       "  <thead>\n",
       "    <tr style=\"text-align: right;\">\n",
       "      <th></th>\n",
       "      <th>Loyalty Number</th>\n",
       "    </tr>\n",
       "    <tr>\n",
       "      <th>Loyalty Card</th>\n",
       "      <th></th>\n",
       "    </tr>\n",
       "  </thead>\n",
       "  <tbody>\n",
       "    <tr>\n",
       "      <th>Aurora</th>\n",
       "      <td>3429</td>\n",
       "    </tr>\n",
       "    <tr>\n",
       "      <th>Nova</th>\n",
       "      <td>5671</td>\n",
       "    </tr>\n",
       "    <tr>\n",
       "      <th>Star</th>\n",
       "      <td>7637</td>\n",
       "    </tr>\n",
       "  </tbody>\n",
       "</table>\n",
       "</div>"
      ],
      "text/plain": [
       "              Loyalty Number\n",
       "Loyalty Card                \n",
       "Aurora                  3429\n",
       "Nova                    5671\n",
       "Star                    7637"
      ]
     },
     "execution_count": 25,
     "metadata": {},
     "output_type": "execute_result"
    }
   ],
   "source": [
    "# Hago una variable en la que el df no tiene duplicados en 'Loyalty Number':\n",
    "df_f5 = df_f.drop_duplicates(subset = 'Loyalty Number')\n",
    "\n",
    "# Agrupo por el tipo de tarjeta y cuento cuantos clientes la tienen:\n",
    "df_f5a = df_f5.groupby('Loyalty Card')['Loyalty Number'].count()\n",
    "\n",
    "#Creo una variable con los índices del df:\n",
    "df_f5a1 = df_f5a.index\n",
    "\n",
    "# Lo paso a df para ver que esté correcto:\n",
    "df_f5b = pd.DataFrame(df_f5a)\n",
    "df_f5b"
   ]
  },
  {
   "cell_type": "code",
   "execution_count": 26,
   "metadata": {},
   "outputs": [
    {
     "data": {
      "image/png": "[encoded data removed]",
      "text/plain": [
       "<Figure size 900x700 with 1 Axes>"
      ]
     },
     "metadata": {},
     "output_type": "display_data"
    }
   ],
   "source": [
    "plt.figure(facecolor='whitesmoke', figsize=(9,7)) #Ajusto el color de fondo y el tamaño del gráfico.\n",
    "\n",
    "# Creo el gráfico:\n",
    "plt.pie(df_f5a, labels=df_f5a1, autopct='%1.1f%%', #Añado las etiquetas y los porcentajes.\n",
    "        colors=['paleturquoise', 'mediumaquamarine', 'lightseagreen'], #Elijo los colores de cada variable.\n",
    "        wedgeprops={'edgecolor': 'dimgray', 'linewidth': 1, 'antialiased': True}, #Elijo los colores del propio gráfico.\n",
    "        textprops={'fontsize': 14, 'bbox': dict(facecolor='gainsboro', edgecolor='gainsboro', boxstyle='round,pad=0.2')}, \n",
    "        pctdistance=0.8, labeldistance=1.1, \n",
    "        startangle=90) #Modifico tanto las etiquetas como los valores.\n",
    "\n",
    "# Añado un círculo en el medio:\n",
    "centre_circle = plt.Circle((0,0), 0.60, fc='whitesmoke', edgecolor='dimgray', linewidth=1.5)\n",
    "plt.gca().add_artist(centre_circle)\n",
    "\n",
    "#Modifico el título:\n",
    "plt.title(\"Porcentaje de usuarios por Loyalty Card\", \n",
    "          fontsize=14, fontweight='normal', \n",
    "          bbox=dict(facecolor='paleturquoise', edgecolor='dimgrey', boxstyle='round,pad=0.2'))\n",
    "\n",
    "plt.show() #Muestro el gráfico."
   ]
  },
  {
   "cell_type": "markdown",
   "metadata": {},
   "source": [
    "- Vemos que solo tenemos tres tipos de tarjeta:\n",
    "    - Star destaca siendo casi la mitad del total de tarjetas.\n",
    "    - L otra mitad se reparte entre Aurora y Nova con un pequeño aumento en Nova.\n",
    "- Hay una preferencia clara por la tarjeta Star."
   ]
  },
  {
   "cell_type": "markdown",
   "metadata": {},
   "source": [
    "### 6. ¿Cómo se distribuyen los clientes según su estado civil y sexo?\n"
   ]
  },
  {
   "cell_type": "code",
   "execution_count": 27,
   "metadata": {},
   "outputs": [
    {
     "data": {
      "text/html": [
       "<div>\n",
       "<style scoped>\n",
       "    .dataframe tbody tr th:only-of-type {\n",
       "        vertical-align: middle;\n",
       "    }\n",
       "\n",
       "    .dataframe tbody tr th {\n",
       "        vertical-align: top;\n",
       "    }\n",
       "\n",
       "    .dataframe thead th {\n",
       "        text-align: right;\n",
       "    }\n",
       "</style>\n",
       "<table border=\"1\" class=\"dataframe\">\n",
       "  <thead>\n",
       "    <tr style=\"text-align: right;\">\n",
       "      <th></th>\n",
       "      <th>Marital Status</th>\n",
       "      <th>Sex</th>\n",
       "      <th>Loyalty Number</th>\n",
       "    </tr>\n",
       "  </thead>\n",
       "  <tbody>\n",
       "    <tr>\n",
       "      <th>0</th>\n",
       "      <td>Divorced</td>\n",
       "      <td>Female</td>\n",
       "      <td>1269</td>\n",
       "    </tr>\n",
       "    <tr>\n",
       "      <th>1</th>\n",
       "      <td>Divorced</td>\n",
       "      <td>Male</td>\n",
       "      <td>1249</td>\n",
       "    </tr>\n",
       "    <tr>\n",
       "      <th>2</th>\n",
       "      <td>Married</td>\n",
       "      <td>Female</td>\n",
       "      <td>4869</td>\n",
       "    </tr>\n",
       "    <tr>\n",
       "      <th>3</th>\n",
       "      <td>Married</td>\n",
       "      <td>Male</td>\n",
       "      <td>4866</td>\n",
       "    </tr>\n",
       "    <tr>\n",
       "      <th>4</th>\n",
       "      <td>Single</td>\n",
       "      <td>Female</td>\n",
       "      <td>2272</td>\n",
       "    </tr>\n",
       "    <tr>\n",
       "      <th>5</th>\n",
       "      <td>Single</td>\n",
       "      <td>Male</td>\n",
       "      <td>2212</td>\n",
       "    </tr>\n",
       "  </tbody>\n",
       "</table>\n",
       "</div>"
      ],
      "text/plain": [
       "  Marital Status     Sex  Loyalty Number\n",
       "0       Divorced  Female            1269\n",
       "1       Divorced    Male            1249\n",
       "2        Married  Female            4869\n",
       "3        Married    Male            4866\n",
       "4         Single  Female            2272\n",
       "5         Single    Male            2212"
      ]
     },
     "execution_count": 27,
     "metadata": {},
     "output_type": "execute_result"
    }
   ],
   "source": [
    "# Reutilizo el df que tengo sin duplicados en 'Loyalty Number'.\n",
    "# Agrupo por 'Marital Status' y 'Sex' y cuento cuantos clientes están en cada columna.\n",
    "df_f6 = df_f5.groupby(['Marital Status', 'Sex'])['Loyalty Number'].count().reset_index()\n",
    "df_f6a = pd.DataFrame(df_f6)\n",
    "df_f6a"
   ]
  },
  {
   "cell_type": "code",
   "execution_count": 28,
   "metadata": {},
   "outputs": [
    {
     "data": {
      "text/html": [
       "<div>\n",
       "<style scoped>\n",
       "    .dataframe tbody tr th:only-of-type {\n",
       "        vertical-align: middle;\n",
       "    }\n",
       "\n",
       "    .dataframe tbody tr th {\n",
       "        vertical-align: top;\n",
       "    }\n",
       "\n",
       "    .dataframe thead th {\n",
       "        text-align: right;\n",
       "    }\n",
       "</style>\n",
       "<table border=\"1\" class=\"dataframe\">\n",
       "  <thead>\n",
       "    <tr style=\"text-align: right;\">\n",
       "      <th></th>\n",
       "      <th>Marital Status</th>\n",
       "      <th>Sex</th>\n",
       "      <th>People</th>\n",
       "    </tr>\n",
       "  </thead>\n",
       "  <tbody>\n",
       "    <tr>\n",
       "      <th>2</th>\n",
       "      <td>Married</td>\n",
       "      <td>Female</td>\n",
       "      <td>4869</td>\n",
       "    </tr>\n",
       "    <tr>\n",
       "      <th>3</th>\n",
       "      <td>Married</td>\n",
       "      <td>Male</td>\n",
       "      <td>4866</td>\n",
       "    </tr>\n",
       "    <tr>\n",
       "      <th>4</th>\n",
       "      <td>Single</td>\n",
       "      <td>Female</td>\n",
       "      <td>2272</td>\n",
       "    </tr>\n",
       "    <tr>\n",
       "      <th>5</th>\n",
       "      <td>Single</td>\n",
       "      <td>Male</td>\n",
       "      <td>2212</td>\n",
       "    </tr>\n",
       "    <tr>\n",
       "      <th>0</th>\n",
       "      <td>Divorced</td>\n",
       "      <td>Female</td>\n",
       "      <td>1269</td>\n",
       "    </tr>\n",
       "    <tr>\n",
       "      <th>1</th>\n",
       "      <td>Divorced</td>\n",
       "      <td>Male</td>\n",
       "      <td>1249</td>\n",
       "    </tr>\n",
       "  </tbody>\n",
       "</table>\n",
       "</div>"
      ],
      "text/plain": [
       "  Marital Status     Sex  People\n",
       "2        Married  Female    4869\n",
       "3        Married    Male    4866\n",
       "4         Single  Female    2272\n",
       "5         Single    Male    2212\n",
       "0       Divorced  Female    1269\n",
       "1       Divorced    Male    1249"
      ]
     },
     "execution_count": 28,
     "metadata": {},
     "output_type": "execute_result"
    }
   ],
   "source": [
    "# Ordeno por 'Loyalty Number' y cambio el nombre de la columna a 'People':\n",
    "df_f62 = df_f6.sort_values('Loyalty Number', ascending=False)\n",
    "df_f62.rename(columns = {'Loyalty Number': 'People'}, inplace = True)\n",
    "df_f62"
   ]
  },
  {
   "cell_type": "code",
   "execution_count": null,
   "metadata": {},
   "outputs": [
    {
     "data": {
      "image/png": "[encoded data removed]",
      "text/plain": [
       "<Figure size 900x700 with 1 Axes>"
      ]
     },
     "metadata": {},
     "output_type": "display_data"
    }
   ],
   "source": [
    "plt.figure(facecolor='whitesmoke', figsize=(9,7))  #Ajusto el color de fondo y el tamaño del gráfico.\n",
    "\n",
    "# Creo el gráfico y la variable \"ax\" para poder añadir etiquetas:\n",
    "ax = sns.barplot(x='Marital Status', y='People', data=df_f62, \n",
    "                 palette=['rebeccapurple', 'lightseagreen'], hue='Sex')\n",
    "\n",
    "# Obtengo el valor máximo de 'People' para ajustar los límites del gráfico:\n",
    "max_p = df_f62['People'].max()\n",
    "plt.ylim(0, max_p * 1.1)  #Añado este comando para que el gráfico se ajuste a los valores de 'People'.\n",
    "\n",
    "# Modifico el título:\n",
    "plt.title(\"Marital status en función del sex\", \n",
    "          fontsize=14, fontweight='normal', \n",
    "          bbox=dict(facecolor='paleturquoise', edgecolor='dimgrey', boxstyle='round,pad=0.2'))\n",
    "\n",
    "# Modifico las etiquetas de ambos ejes:\n",
    "plt.xlabel(\"Marital status\", fontsize=13, fontweight='normal', \n",
    "            labelpad=10, bbox=dict(facecolor='gainsboro', edgecolor='lightgray', boxstyle='round,pad=0.2'))\n",
    "plt.ylabel(\"People\", fontsize=13, fontweight='normal', \n",
    "            labelpad=10, bbox=dict(facecolor='gainsboro', edgecolor='lightgray', boxstyle='round,pad=0.2'))\n",
    "\n",
    "# Muestro etiquetas de los valores dentro de las barras con un bucle:\n",
    "for container in ax.containers:\n",
    "    ax.bar_label(container, fmt='%d', color='black', fontsize=12, label_type='edge', padding=3,\n",
    "                 bbox=dict(facecolor='whitesmoke', edgecolor='black', boxstyle='round,pad=0.3'))  #Pongo las etiquetas encima de las barras.\n",
    "\n",
    "# Enmarco:\n",
    "for spine in ax.spines.values():\n",
    "    spine.set_edgecolor('black')\n",
    "    spine.set_linewidth(1.1)\n",
    "\n",
    "plt.show()  #Muestro el gráfico.\n"
   ]
  },
  {
   "cell_type": "markdown",
   "metadata": {},
   "source": [
    "- El dato que más llama la atención es la cantidad de personas casadas, ya que son más que la suma de solteras y divorciadas.\n",
    "- Las personas solteras casi doblan a las divorciadas.\n",
    "- En todas las categorías vemos que mujeresy hombres están prácticamente igualados.\n",
    "-En general hay más mujeres que hombres, lo que es lógico ya que en general hay más mujeres que hombres."
   ]
  }
 ],
 "metadata": {
  "kernelspec": {
   "display_name": "base",
   "language": "python",
   "name": "python3"
  },
  "language_info": {
   "codemirror_mode": {
    "name": "ipython",
    "version": 3
   },
   "file_extension": ".py",
   "mimetype": "text/x-python",
   "name": "python",
   "nbconvert_exporter": "python",
   "pygments_lexer": "ipython3",
   "version": "3.12.7"
  }
 },
 "nbformat": 4,
 "nbformat_minor": 2
}
